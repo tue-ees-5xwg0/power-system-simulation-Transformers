{
 "cells": [
  {
   "cell_type": "markdown",
   "metadata": {},
   "source": []
  },
  {
   "cell_type": "markdown",
   "metadata": {},
   "source": [
    "# Model Processor"
   ]
  },
  {
   "cell_type": "markdown",
   "metadata": {},
   "source": [
    "Using the `GraphProcessor` class a model can be created and analyzed using `model_processor`."
   ]
  },
  {
   "cell_type": "markdown",
   "metadata": {},
   "source": [
    "## Model structure\n",
    "\n",
    "The module `model_processor` is made out of 5 functions:\n",
    "1. `load_input_data`  \n",
    "    Reads the data from the three files and checks that it is correct.\n",
    "   **Inputs**:  \n",
    "   - `active_data_path` (str): Path to active power data (parquet)  \n",
    "   - `reactive_data_path` (str): Path to reactive power data (parquet)  \n",
    "   - `model_data_path` (str): Path to static network model (JSON)  \n",
    "   **Outputs**:  \n",
    "   - `active_df` (DataFrame), `reactive_df` (DataFrame), `dataset` (dict)\n",
    "\n",
    "2. `run_updated_power_flow_analysis`  \n",
    "    Takes the data that was read from `load_input_data` and performs a PGM batch update.\n",
    "   **Inputs**:  \n",
    "   - `active_df` (DataFrame): Active power values indexed by time  \n",
    "   - `reactive_df` (DataFrame): Reactive power values indexed by time  \n",
    "   - `dataset` (dict): Static model of the power grid  \n",
    "   **Output**:  \n",
    "   - `output` (dict): Power flow simulation results\n",
    "\n",
    "3. `node_voltage_summary`  \n",
    "    Takes as input the model from `run_updated_power_flow_analysis`. Aggregates voltage results and creates a dataframe for them.\n",
    "   **Inputs**:  \n",
    "   - `output` (dict): Simulation output  \n",
    "   - `timestamps` (Index): Time index from the input data  \n",
    "   **Output**:  \n",
    "   - `node_df` (DataFrame): Voltage stats per timestamp and node\n",
    "\n",
    "4. `line_statistics_summary`  \n",
    "   Takes as input the model from `run_updated_power_flow_analysis`. Aggregates line results and creates a dataframe for them/\n",
    "   **Inputs**:  \n",
    "   - `output` (dict): Simulation output  \n",
    "   - `timestamps` (Index): Time index from the input data  \n",
    "   **Output**:  \n",
    "   - `line_df` (DataFrame): Energy loss and loading stats per line\n",
    "\n",
    "5. `data_processing`  \n",
    "   Uses all the functions in order and returns both dataframes. \n",
    "   **Inputs**:  \n",
    "   - `active_data_path`, `reactive_data_path`, `model_data_path` (str): Input file paths  \n",
    "   **Outputs**:  \n",
    "   - `node_df`, `line_df` (DataFrames): Summaries of node voltages and line metrics"
   ]
  },
  {
   "cell_type": "markdown",
   "metadata": {},
   "source": []
  },
  {
   "cell_type": "markdown",
   "metadata": {},
   "source": [
    "## Implementation"
   ]
  },
  {
   "cell_type": "markdown",
   "metadata": {},
   "source": [
    "Importing requirments and adding the paths for all the data."
   ]
  },
  {
   "cell_type": "code",
   "execution_count": null,
   "metadata": {},
   "outputs": [
    {
     "ename": "ModuleNotFoundError",
     "evalue": "No module named 'src'",
     "output_type": "error",
     "traceback": [
      "\u001b[31m---------------------------------------------------------------------------\u001b[39m",
      "\u001b[31mModuleNotFoundError\u001b[39m                       Traceback (most recent call last)",
      "\u001b[36mCell\u001b[39m\u001b[36m \u001b[39m\u001b[32mIn[45]\u001b[39m\u001b[32m, line 2\u001b[39m\n\u001b[32m      1\u001b[39m \u001b[38;5;28;01mfrom\u001b[39;00m\u001b[38;5;250m \u001b[39m\u001b[34;01mpathlib\u001b[39;00m\u001b[38;5;250m \u001b[39m\u001b[38;5;28;01mimport\u001b[39;00m Path\n\u001b[32m----> \u001b[39m\u001b[32m2\u001b[39m \u001b[38;5;28;01mfrom\u001b[39;00m\u001b[38;5;250m \u001b[39m\u001b[34;01msrc\u001b[39;00m\u001b[34;01m.\u001b[39;00m\u001b[34;01mpower_system_simulation\u001b[39;00m\u001b[34;01m.\u001b[39;00m\u001b[34;01mmodel_processor\u001b[39;00m\u001b[38;5;250m \u001b[39m\u001b[38;5;28;01mimport\u001b[39;00m data_processing\n",
      "\u001b[31mModuleNotFoundError\u001b[39m: No module named 'src'"
     ]
    }
   ],
   "source": [
    "from pathlib import Path\n",
    "\n",
    "from power_system_simulation.model_processor import data_processing"
   ]
  },
  {
   "cell_type": "code",
   "execution_count": null,
   "metadata": {},
   "outputs": [],
   "source": [
    "BASE_DIR = Path.cwd() / \"tests\"\n",
    "\n",
    "INPUT_DATA_PATH = BASE_DIR / \"stefan_data/input_network_data.json\"\n",
    "ACTIVE_DATA_PATH = BASE_DIR / \"stefan_data/active_power_profile.parquet\"\n",
    "REACTIVE_DATA_PATH = BASE_DIR / \"stefan_data/reactive_power_profile.parquet\"\n",
    "METADATA_PATH = BASE_DIR / \"stefan_data/meta_data.json\""
   ]
  },
  {
   "cell_type": "markdown",
   "metadata": {},
   "source": [
    "Execute the update and get the dataframes for the node and line statistics"
   ]
  },
  {
   "cell_type": "code",
   "execution_count": null,
   "metadata": {},
   "outputs": [
    {
     "ename": "NameError",
     "evalue": "name 'data_processing' is not defined",
     "output_type": "error",
     "traceback": [
      "\u001b[31m---------------------------------------------------------------------------\u001b[39m",
      "\u001b[31mNameError\u001b[39m                                 Traceback (most recent call last)",
      "\u001b[36mCell\u001b[39m\u001b[36m \u001b[39m\u001b[32mIn[42]\u001b[39m\u001b[32m, line 1\u001b[39m\n\u001b[32m----> \u001b[39m\u001b[32m1\u001b[39m \u001b[43mdata_processing\u001b[49m(ACTIVE_DATA_PATH,REACTIVE_DATA_PATH, INPUT_DATA_PATH )\n",
      "\u001b[31mNameError\u001b[39m: name 'data_processing' is not defined"
     ]
    }
   ],
   "source": [
    "data_processing(ACTIVE_DATA_PATH,REACTIVE_DATA_PATH, INPUT_DATA_PATH )"
   ]
  }
 ],
 "metadata": {
  "kernelspec": {
   "display_name": ".venv",
   "language": "python",
   "name": "python3"
  },
  "language_info": {
   "codemirror_mode": {
    "name": "ipython",
    "version": 3
   },
   "file_extension": ".py",
   "mimetype": "text/x-python",
   "name": "python",
   "nbconvert_exporter": "python",
   "pygments_lexer": "ipython3",
   "version": "3.13.3"
  }
 },
 "nbformat": 4,
 "nbformat_minor": 2
}
