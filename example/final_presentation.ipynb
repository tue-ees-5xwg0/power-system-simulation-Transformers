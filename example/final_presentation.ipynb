{
 "cells": [
  {
   "cell_type": "markdown",
   "id": "06d6296d-9187-4737-ab9b-b73bc0d521bc",
   "metadata": {},
   "source": [
    "# Final Presentation for the Transformers team\n",
    "\n"
   ]
  },
  {
   "cell_type": "code",
   "execution_count": null,
   "id": "aa0fb37b",
   "metadata": {},
   "outputs": [],
   "source": []
  },
  {
   "cell_type": "code",
   "execution_count": null,
   "id": "b5b52833-9e5e-40c8-a268-43a2bc0c35a9",
   "metadata": {},
   "outputs": [
    {
     "name": "stdout",
     "output_type": "stream",
     "text": [
      "Hello world!\n"
     ]
    }
   ],
   "source": [
    "?????"
   ]
  },
  {
   "cell_type": "markdown",
   "id": "ea9e07f7",
   "metadata": {},
   "source": [
    "## Assignment 1\n",
    "In Assignment 1 we are building a simple graph processing class. We build an undirected graph and implement two functionalties:\n",
    "\n",
    "- Find downstream vertices\n",
    "- Find alternative edges"
   ]
  },
  {
   "cell_type": "markdown",
   "id": "a28a740b",
   "metadata": {},
   "source": [
    "## Making a graph\n",
    "\n",
    "- A class for processing undirected graphs.  \n",
    "- This class provides functionalities: initializing a graph, finding downstream vertices of an edge, and identifying alternative edges for ensuring graph connectivity.\n",
    "\n",
    "### Attributes:\n",
    "- **graph**: A NetworkX graph representing the processed graph.\n"
   ]
  },
  {
   "cell_type": "markdown",
   "id": "7b3027bc",
   "metadata": {},
   "source": [
    "### Arguments\n",
    "- `vertex_ids` (List[int]): List of vertex IDs.\n",
    "- `edge_ids` (List[int]): List of edge IDs.\n",
    "- `edge_vertex_id_pairs` (List[Tuple[int, int]]): List of tuples - - representing vertex pairs for each edge.\n",
    "- `edge_enabled` (List[bool]): List indicating whether each edge is either enabled (true) or disabled (false) \n",
    "- `source_vertex_id` (int): ID of the source vertex.\n"
   ]
  },
  {
   "cell_type": "markdown",
   "id": "a56d36cf",
   "metadata": {},
   "source": [
    "### Raises\n",
    "\n",
    "- **`IDNotUniqueError`**  \n",
    "  Raised if there are duplicate vertex or edge IDs.\n",
    "\n",
    "- **`InputLengthDoesNotMatchError`**  \n",
    "  Raised if the length of `edge_enabled` does not match the lengths of the input lists `edge_ids`.\n",
    "\n",
    "- **`IDNotFoundError`**  \n",
    "  Raised if a vertex ID in `edge_vertex_id_pairs` does not exist in `vertex_ids`.\n",
    "\n",
    "- **`GraphNotFullyConnectedError`**  \n",
    "  Raised if the graph is not fully connected.\n",
    "\n",
    "- **`GraphCycleError`**  \n",
    "  Raised if the graph contains one or more cycles.\n"
   ]
  },
  {
   "cell_type": "markdown",
   "id": "d0a8709c",
   "metadata": {},
   "source": [
    "The functionalities of this class can be tested through a grid, which is created by using the code below: "
   ]
  },
  {
   "cell_type": "code",
   "execution_count": null,
   "id": "f6dff70f",
   "metadata": {},
   "outputs": [],
   "source": [
    "vertex_ids = [0, 2, 4, 6, 10]\n",
    "edge_ids = [1, 3, 5, 7, 8, 9]\n",
    "edge_vertex_id_pairs = [(0, 2), (0, 4), (0, 6), (2, 4), (4, 6), (2, 10)]\n",
    "edge_enabled = [True, True, True, False, False, True]\n",
    "source_vertex_id = 10\n",
    "\n",
    "grid = GraphProcessor(vertex_ids, edge_ids, edge_vertex_id_pairs, edge_enabled, source_vertex_id)"
   ]
  },
  {
   "cell_type": "markdown",
   "id": "d2d91ec4",
   "metadata": {},
   "source": [
    "### Graph depiction \n",
    "The graph created above can be visualized in the following way:"
   ]
  },
  {
   "cell_type": "code",
   "execution_count": null,
   "id": "e0150040",
   "metadata": {},
   "outputs": [],
   "source": []
  },
  {
   "cell_type": "markdown",
   "id": "698e906e",
   "metadata": {},
   "source": [
    "### Finding downstream vertices \n",
    "\n",
    "**Arguments:**\n",
    "- `starting_edge_id (int)`: ID of the edge to find downstream vertices for.\n",
    "\n",
    "**Returns:**\n",
    "- `List[int]`: List of vertex IDs downstream from the specified edge.\n",
    "\n",
    "**Method:**\n",
    "1. **Check edge existence**:\n",
    "   - Raise an exception if the ID is not in the edge list.\n",
    "\n",
    "2. **Check if the edge is enabled**:\n",
    "   - If disabled, there's no downstream effect → return empty list.\n",
    "\n",
    "3. **Get the edge’s vertex pair**:\n",
    "   - Use `edge_vertex_id_pairs` to get `(vertex1, vertex2)`.\n",
    "\n",
    "4. **Simulate edge removal**:\n",
    "   - Copy the graph to avoid modifying the original.\n",
    "   - Remove the given edge from the copied graph.\n",
    "\n",
    "5. **Compute connected components**:\n",
    "   - Use NetworkX to find components after edge removal.\n",
    "\n",
    "6. **Find source-containing component**:\n",
    "   - Identify the group containing `source_vertex_id`.\n",
    "\n",
    "7. **Return the disconnected part**:\n",
    "   - Return the other component (not containing the source).\n",
    "   - If no separation occurred, return an empty list."
   ]
  },
  {
   "cell_type": "code",
   "execution_count": null,
   "id": "d6ae703c",
   "metadata": {},
   "outputs": [],
   "source": [
    "downstream_vertices1 = graph.find_downstream_vertices(1) \n",
    "downstream_vertices1\n",
    "downstream_vertices2 = graph.find_downstream_vertices(3) \n",
    "downstream_vertices2\n",
    "downstream_vertices3 = graph.find_downstream_vertices(5)\n",
    "downstream_vertices3\n",
    "downstream_vertices4 = graph.find_downstream_vertices(7) \n",
    "downstream_vertices4\n",
    "downstream_vertices5 = graph.find_downstream_vertices(8) \n",
    "downstream_vertices5\n",
    "downstream_vertices6 = graph.find_downstream_vertices(9) \n",
    "downstream_vertices6\n"
   ]
  },
  {
   "cell_type": "markdown",
   "id": "b312bc2f",
   "metadata": {},
   "source": [
    "### Finding alternative edges \n",
    "\n",
    "Find alternative disabled edges that, if re-enabled, can restore full connectivity to the graph without introducing a cycle — after a specific edge is disabled.\n",
    "\n",
    "### Arguments:\n",
    "- `disabled_edge_id (int)`: ID of the edge that is about to be disabled.\n",
    "\n",
    "### Returns:\n",
    "- `List[int]`: List of edge IDs that could be re-enabled as alternatives to restore full graph connectivity without forming a cycle.\n",
    "\n",
    "\n",
    "\n",
    "   "
   ]
  },
  {
   "cell_type": "markdown",
   "id": "ada6ff5f",
   "metadata": {},
   "source": [
    "### Method:\n",
    "\n",
    "1. **Validate the input edge**:\n",
    "   - If the given edge ID doesn't exist, raise `IDNotFoundError`.\n",
    "   - If the edge is already disabled, raise `EdgeAlreadyDisabledError`.\n",
    "\n",
    "2. **Find all currently disabled edges**:\n",
    "   - Loop through `edge_enabled` and collect IDs of disabled edges.\n",
    "\n",
    "3. **Prepare a baseline edge status map**:\n",
    "   - Copy the current state of all edges.\n",
    "   - Mark the given `disabled_edge_id` as `False` (simulate disabling it).\n",
    "\n",
    "4. **Test each disabled edge**:\n",
    "   - For each `test_edge_id` in the disabled list:\n",
    "     - Temporarily enable just that edge in a new status map.\n",
    "     - Reconstruct the graph using this temporary configuration.\n",
    "\n",
    "5. **Check the test graph**:\n",
    "   - If the resulting graph is **connected** AND **does not form a cycle**, then it's a valid alternative.\n",
    "\n",
    "6. **Add valid alternatives to the list**:\n",
    "   - If both conditions are met, add `test_edge_id` to `alt_list`.\n",
    "\n",
    "7. **Return the list** of alternative edge IDs.\n"
   ]
  },
  {
   "cell_type": "code",
   "execution_count": null,
   "id": "89106a8f",
   "metadata": {},
   "outputs": [],
   "source": [
    "alternative_edges = grid.find_alternative_edges(3)\n",
    "alternative_edges"
   ]
  },
  {
   "cell_type": "markdown",
   "id": "43fb1b1d",
   "metadata": {},
   "source": [
    "# Assignment2 - TO DO "
   ]
  },
  {
   "cell_type": "markdown",
   "id": "154994b1",
   "metadata": {},
   "source": [
    "### Finding an optimal tap position\n",
    " Finding the optimal tap position of the transformer based on one of the following criteria:\n",
    "- The minimal total energy loss of all the lines and the whole time period.\n",
    "- The minimal (averaged across all nodes) deviation of (max and min) p.u. node voltages with respect to 1 p.u.\n"
   ]
  },
  {
   "cell_type": "markdown",
   "id": "e90185b7",
   "metadata": {},
   "source": [
    "###  Arguments\n",
    "\n",
    "- **`input_network_data`** (`.json`):  \n",
    "  JSON file describing the electrical network topology and components.\n",
    "\n",
    "- **`active_power_profile_path`** (`.parquet`):  \n",
    "  File path to the active power profile dataset.\n",
    "\n",
    "- **`reactive_power_profile_path`** (`.parquet`):  \n",
    "  File path to the reactive power profile dataset.\n",
    "\n",
    "- **`optimize_by`** (`int`):  \n",
    "  Optimization objective:\n",
    "  - `0`: Minimize power losses  \n",
    "  - `1`: Minimize voltage deviation\n"
   ]
  },
  {
   "cell_type": "markdown",
   "id": "d3e0b8c8",
   "metadata": {},
   "source": [
    "# METHOD: TO DO + DEMO"
   ]
  },
  {
   "cell_type": "markdown",
   "id": "af061a39",
   "metadata": {},
   "source": [
    "### EV Penetration\n",
    "\n",
    "### Arguments\n",
    "\n",
    "- **`input_network_data`** (`str`):  \n",
    "  Path to the input network data file.\n",
    "\n",
    "- **`meta_data_str`** (`str`):  \n",
    "  Path to the metadata file.\n",
    "\n",
    "- **`active_power_profile_path`** (`str`):  \n",
    "  Path to the active power profile file.\n",
    "\n",
    "- **`ev_active_power_profile`** (`str`):  \n",
    "  Path to the EV active power profile file.\n",
    "\n",
    "- **`percentage`** (`float`):  \n",
    "  Percentage of EV penetration.\n",
    "\n",
    "- **`seed`** (`int`):  \n",
    "  Seed for random number generation.\n",
    "\n",
    "### Returns\n",
    "\n",
    "A tuple containing two pandas DataFrames:\n",
    "\n",
    "- **`voltage_df`** (`pandas.DataFrame`):  \n",
    "  DataFrame with voltage results at each node.\n",
    "\n",
    "- **`line_df`** (`pandas.DataFrame`):  \n",
    "  DataFrame with line loading results.\n"
   ]
  },
  {
   "cell_type": "markdown",
   "id": "b62e3543",
   "metadata": {},
   "source": [
    "# METHOD: TO DO"
   ]
  },
  {
   "cell_type": "markdown",
   "id": "54365c5d",
   "metadata": {},
   "source": [
    "# N1 - TO DO"
   ]
  }
 ],
 "metadata": {
  "kernelspec": {
   "display_name": ".venv",
   "language": "python",
   "name": "python3"
  },
  "language_info": {
   "codemirror_mode": {
    "name": "ipython",
    "version": 3
   },
   "file_extension": ".py",
   "mimetype": "text/x-python",
   "name": "python",
   "nbconvert_exporter": "python",
   "pygments_lexer": "ipython3",
   "version": "3.13.3"
  }
 },
 "nbformat": 4,
 "nbformat_minor": 5
}
